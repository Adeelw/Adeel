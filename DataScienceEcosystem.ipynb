{
 "cells": [
  {
   "cell_type": "markdown",
   "id": "bc8e6a82-e01a-45ad-933e-a5b78f3a393a",
   "metadata": {},
   "source": [
    "# Data Science Tools and Ecosystem\n"
   ]
  },
  {
   "cell_type": "markdown",
   "id": "6524ed3c-0ce7-43fe-b494-2d056c3cd9df",
   "metadata": {},
   "source": [
    "In this notebook, Data Science Tools and Ecosystem are summarized.\n",
    "\n",
    "**Objectives:**\n",
    "* Learn popular Languages for Data Science\n",
    "* Commonly use  Libraries in Data Science\n",
    "* Popular Tools of Data Science\n",
    "* Examples of evaluating arithmetic expressions in Python\n"
   ]
  },
  {
   "cell_type": "markdown",
   "id": "64669875-c0eb-461f-a996-5fd75fcf4f34",
   "metadata": {},
   "source": [
    "Some of the popular languages that Data Scientists use are:\n",
    "\n",
    "1. Python\n",
    "2. R\n",
    "3. SQL"
   ]
  },
  {
   "cell_type": "markdown",
   "id": "1bbc6c79-a131-4a04-a35c-a839520bcef2",
   "metadata": {},
   "source": [
    "Some of the commonly used libraries used by Data Scientists include:\n",
    "\n",
    "1. Scientific Computing (Pandas, NumPy)\n",
    "2. Visualization (Matplotlib, Seaborn)\n",
    "3. High-level machine learning (Scikit-learn) \n",
    "\r\n"
   ]
  },
  {
   "cell_type": "markdown",
   "id": "6e50134d-0901-463b-96cf-b9cb999010cb",
   "metadata": {},
   "source": [
    "|Data Science Tools |\n",
    "|:-----------|\n",
    "| Jupyter Notebook & Jupyter Lab|\n",
    "| R Studio IDE|\n",
    "| GitHub|\n"
   ]
  },
  {
   "cell_type": "markdown",
   "id": "19c32cdc-d550-45b1-b2d9-0d7916b09246",
   "metadata": {},
   "source": [
    "### Below are a few examples of evaluating arithmetic expressions in Python"
   ]
  },
  {
   "cell_type": "code",
   "execution_count": 49,
   "id": "e0a8ec32-ac30-4810-a468-9011a7888a50",
   "metadata": {},
   "outputs": [
    {
     "data": {
      "text/plain": [
       "17"
      ]
     },
     "execution_count": 49,
     "metadata": {},
     "output_type": "execute_result"
    }
   ],
   "source": [
    "# This a simple arithmetic expression to mutiply then add integers\n",
    "(3*4)+5\n"
   ]
  },
  {
   "cell_type": "code",
   "execution_count": 47,
   "id": "205579bf-c791-42c3-a9f0-a74e1d28322e",
   "metadata": {},
   "outputs": [
    {
     "data": {
      "text/plain": [
       "3.3333333333333335"
      ]
     },
     "execution_count": 47,
     "metadata": {},
     "output_type": "execute_result"
    }
   ],
   "source": [
    "# This will convert 200 minutes to hours by diving by 60\n",
    "200 /60"
   ]
  },
  {
   "cell_type": "markdown",
   "id": "33694ee9-546c-425a-8eaf-60c5bbd1c477",
   "metadata": {},
   "source": [
    "## Author\n",
    "Adeel Waseem"
   ]
  }
 ],
 "metadata": {
  "kernelspec": {
   "display_name": "Python 3 (ipykernel)",
   "language": "python",
   "name": "python3"
  },
  "language_info": {
   "codemirror_mode": {
    "name": "ipython",
    "version": 3
   },
   "file_extension": ".py",
   "mimetype": "text/x-python",
   "name": "python",
   "nbconvert_exporter": "python",
   "pygments_lexer": "ipython3",
   "version": "3.12.4"
  }
 },
 "nbformat": 4,
 "nbformat_minor": 5
}
